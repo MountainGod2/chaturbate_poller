{
 "cells": [
  {
   "cell_type": "markdown",
   "metadata": {},
   "source": [
    "# Example usage\n",
    "\n",
    "To use `chaturbate_poller` in a project:"
   ]
  },
  {
   "cell_type": "code",
   "execution_count": 1,
   "metadata": {},
   "outputs": [
    {
     "name": "stderr",
     "output_type": "stream",
     "text": [
      "2024-08-13 18:57:31 - INFO - mountaingod2 sent message: test\n"
     ]
    }
   ],
   "source": [
    "# ruff: noqa: PLE1142\n",
    "import asyncio\n",
    "import os\n",
    "from contextlib import suppress\n",
    "\n",
    "from dotenv import load_dotenv\n",
    "\n",
    "from chaturbate_poller.chaturbate_client import ChaturbateClient\n",
    "from chaturbate_poller.event_handlers import create_event_handler\n",
    "\n",
    "load_dotenv()\n",
    "\n",
    "username = os.getenv(\"CB_USERNAME\", \"\")\n",
    "token = os.getenv(\"CB_TOKEN\", \"\")\n",
    "\n",
    "\n",
    "async def main() -> None:\n",
    "    \"\"\"Fetch Chaturbate events.\"\"\"\n",
    "    event_handler = create_event_handler(\"logging\")\n",
    "\n",
    "    async with ChaturbateClient(username, token) as client:\n",
    "        url = None\n",
    "        while True:\n",
    "            response = await client.fetch_events(url)\n",
    "            if response is None:\n",
    "                break\n",
    "            for event in response.events:\n",
    "                await event_handler.handle_event(event)\n",
    "            url = str(response.next_url)\n",
    "\n",
    "\n",
    "with suppress(KeyboardInterrupt, asyncio.CancelledError):\n",
    "    await main()"
   ]
  }
 ],
 "metadata": {
  "kernelspec": {
   "display_name": "Python 3",
   "language": "python",
   "name": "python3"
  },
  "language_info": {
   "codemirror_mode": {
    "name": "ipython",
    "version": 3
   },
   "file_extension": ".py",
   "mimetype": "text/x-python",
   "name": "python",
   "nbconvert_exporter": "python",
   "pygments_lexer": "ipython3",
   "version": "3.11.9"
  }
 },
 "nbformat": 4,
 "nbformat_minor": 4
}
