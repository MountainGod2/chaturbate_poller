{
 "cells": [
  {
   "cell_type": "markdown",
   "metadata": {},
   "source": [
    "# Example usage\n",
    "\n",
    "To use `chaturbate_poller` in a project:"
   ]
  },
  {
   "cell_type": "code",
   "execution_count": 8,
   "metadata": {},
   "outputs": [],
   "source": [
    "from chaturbate_poller.chaturbate_client import ChaturbateClient\n",
    "from chaturbate_poller.config_manager import ConfigManager\n",
    "from chaturbate_poller.format_messages import format_message\n",
    "\n",
    "config_manager = ConfigManager()\n",
    "username = config_manager.get(\"CB_USERNAME\", \"\")\n",
    "token = config_manager.get(\"CB_TOKEN\", \"\")\n",
    "\n",
    "\n",
    "async def main():\n",
    "    async with ChaturbateClient(username, token, testbed=True) as client:\n",
    "        url = None\n",
    "\n",
    "        while True:\n",
    "            response = await client.fetch_events(url)\n",
    "\n",
    "            for event in response.events:\n",
    "                message = await format_message(event)\n",
    "                print(f\"{message}\")\n",
    "\n",
    "            url = response.next_url"
   ]
  }
 ],
 "metadata": {
  "kernelspec": {
   "display_name": "Python 3",
   "language": "python",
   "name": "python3"
  },
  "language_info": {
   "codemirror_mode": {
    "name": "ipython",
    "version": 3
   },
   "file_extension": ".py",
   "mimetype": "text/x-python",
   "name": "python",
   "nbconvert_exporter": "python",
   "pygments_lexer": "ipython3",
   "version": "3.13.0"
  }
 },
 "nbformat": 4,
 "nbformat_minor": 4
}
