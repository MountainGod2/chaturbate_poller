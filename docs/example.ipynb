{
    "cells": [
        {
            "cell_type": "markdown",
            "metadata": {},
            "source": [
                "# Example usage\n",
                "\n",
                "To use `chaturbate_poller` in a project:"
            ]
        },
        {
            "cell_type": "code",
            "execution_count": 1,
            "metadata": {},
            "outputs": [
                {
                    "name": "stderr",
                    "output_type": "stream",
                    "text": [
                        "2024-03-31 14:51:38,024 - root - INFO - {'method': 'follow', 'object': {'broadcaster': 'mrslaw', 'user': {'username': 'mountaingod2', 'in_fanclub': True, 'has_tokens': True, 'is_mod': False, 'recent_tips': 'tons', 'gender': 'm', 'subgender': ''}, 'media': None, 'tip': None, 'message': None, 'subject': None}, 'id': '1711918297994-0'}\n"
                    ]
                }
            ],
            "source": [
                "import logging\n",
                "import os\n",
                "\n",
                "import chaturbate_poller\n",
                "from dotenv import load_dotenv\n",
                "\n",
                "load_dotenv()\n",
                "\n",
                "username = os.getenv(\"CB_USERNAME\", \"\")\n",
                "token = os.getenv(\"CB_TOKEN\", \"\")\n",
                "\n",
                "\n",
                "async def main() -> None:\n",
                "    \"\"\"Fetch Chaturbate events.\"\"\"\n",
                "    async with chaturbate_poller.ChaturbateClient(username, token) as client:\n",
                "        response = await client.fetch_events()\n",
                "        for event in response.events:\n",
                "            logging.info(event.dict())\n",
                "\n",
                "\n",
                "await main()  # noqa: PLE1142\n"
            ]
        }
    ],
    "metadata": {
        "kernelspec": {
            "display_name": "Python 3",
            "language": "python",
            "name": "python3"
        },
        "language_info": {
            "codemirror_mode": {
                "name": "ipython",
                "version": 3
            },
            "file_extension": ".py",
            "mimetype": "text/x-python",
            "name": "python",
            "nbconvert_exporter": "python",
            "pygments_lexer": "ipython3",
            "version": "3.10.12"
        }
    },
    "nbformat": 4,
    "nbformat_minor": 4
}
